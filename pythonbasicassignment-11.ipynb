{
 "cells": [
  {
   "cell_type": "code",
   "execution_count": null,
   "id": "fe4396f8",
   "metadata": {},
   "outputs": [],
   "source": [
    "1. Create an assert statement that throws an AssertionError if the variable spam is a negative\n",
    "integer.\n",
    "2. Write an assert statement that triggers an AssertionError if the variables eggs and bacon contain\n",
    "strings that are the same as each other, even if their cases are different (that is, &#39;hello&#39; and &#39;hello&#39; are\n",
    "considered the same, and &#39;goodbye&#39; and &#39;GOODbye&#39; are also considered the same).\n",
    "3. Create an assert statement that throws an AssertionError every time.\n",
    "4. What are the two lines that must be present in your software in order to call logging.debug()?\n",
    "5. What are the two lines that your program must have in order to have logging.debug() send a\n",
    "logging message to a file named programLog.txt?\n",
    "6. What are the five levels of logging?\n",
    "7. What line of code would you add to your software to disable all logging messages?\n",
    "8.Why is using logging messages better than using print() to display the same message?\n",
    "9. What are the differences between the Step Over, Step In, and Step Out buttons in the debugger?\n",
    "10.After you click Continue, when will the debugger stop ?\n",
    "11. What is the concept of a breakpoint?"
   ]
  },
  {
   "cell_type": "code",
   "execution_count": 7,
   "id": "9a81945b",
   "metadata": {},
   "outputs": [
    {
     "name": "stdout",
     "output_type": "stream",
     "text": [
      "whats x?6\n"
     ]
    },
    {
     "ename": "AssertionError",
     "evalue": "",
     "output_type": "error",
     "traceback": [
      "\u001b[1;31m---------------------------------------------------------------------------\u001b[0m",
      "\u001b[1;31mAssertionError\u001b[0m                            Traceback (most recent call last)",
      "Input \u001b[1;32mIn [7]\u001b[0m, in \u001b[0;36m<cell line: 5>\u001b[1;34m()\u001b[0m\n\u001b[0;32m      2\u001b[0m x\u001b[38;5;241m=\u001b[39m\u001b[38;5;28mint\u001b[39m(\u001b[38;5;28minput\u001b[39m\n\u001b[0;32m      3\u001b[0m       (\u001b[38;5;124m'\u001b[39m\u001b[38;5;124mwhats x?\u001b[39m\u001b[38;5;124m'\u001b[39m))\n\u001b[0;32m      4\u001b[0m y\u001b[38;5;241m=\u001b[39m\u001b[38;5;241m5\u001b[39m\n\u001b[1;32m----> 5\u001b[0m \u001b[38;5;28;01massert\u001b[39;00m x\u001b[38;5;241m==\u001b[39m\u001b[38;5;241m5\u001b[39m\n\u001b[0;32m      6\u001b[0m \u001b[38;5;28mprint\u001b[39m (x\u001b[38;5;241m+\u001b[39my)\n",
      "\u001b[1;31mAssertionError\u001b[0m: "
     ]
    }
   ],
   "source": [
    "1.\n",
    "x=int(input\n",
    "      ('whats x?'))\n",
    "y=5\n",
    "assert x==5\n",
    "print (x+y)\n",
    "\n"
   ]
  },
  {
   "cell_type": "code",
   "execution_count": null,
   "id": "306b2531",
   "metadata": {},
   "outputs": [],
   "source": [
    "2."
   ]
  },
  {
   "cell_type": "code",
   "execution_count": 3,
   "id": "0d685048",
   "metadata": {},
   "outputs": [
    {
     "ename": "IndentationError",
     "evalue": "unexpected indent (1009682537.py, line 3)",
     "output_type": "error",
     "traceback": [
      "\u001b[1;36m  Input \u001b[1;32mIn [3]\u001b[1;36m\u001b[0m\n\u001b[1;33m    pytest.raises(Assertionerror):fun('a')\u001b[0m\n\u001b[1;37m    ^\u001b[0m\n\u001b[1;31mIndentationError\u001b[0m\u001b[1;31m:\u001b[0m unexpected indent\n"
     ]
    }
   ],
   "source": [
    "3\n",
    "import pytest\n",
    " pytest.raises(Assertionerror):fun('a')"
   ]
  },
  {
   "cell_type": "code",
   "execution_count": null,
   "id": "f4bc693d",
   "metadata": {},
   "outputs": [],
   "source": [
    "4 Iimport logging"
   ]
  },
  {
   "cell_type": "code",
   "execution_count": null,
   "id": "3c58db8e",
   "metadata": {},
   "outputs": [],
   "source": [
    "5.\n",
    "import loggging\n",
    "logging basicConfig(filename='programLog.txt', level= logging.DEBUG)"
   ]
  },
  {
   "cell_type": "code",
   "execution_count": null,
   "id": "5d000282",
   "metadata": {},
   "outputs": [],
   "source": [
    "6.Five levels of logging are:debug, info ,warning, error,  critical"
   ]
  },
  {
   "cell_type": "code",
   "execution_count": null,
   "id": "fb4ea0e8",
   "metadata": {},
   "outputs": [],
   "source": [
    "7.logging.disable() is used to disable all logging messages."
   ]
  },
  {
   "cell_type": "code",
   "execution_count": null,
   "id": "d5b9a8db",
   "metadata": {},
   "outputs": [],
   "source": [
    "8. print() messages is used for simple problems and not for complex problems.So it is better to use logging instaed of print. "
   ]
  },
  {
   "cell_type": "code",
   "execution_count": null,
   "id": "471248a9",
   "metadata": {},
   "outputs": [],
   "source": [
    "9.In stepover button the debugger checks the error in a whole code,in stepinto button the debugger checks the error inside a \n",
    "particular function, in stepout  button debugger comes out of the function. "
   ]
  },
  {
   "cell_type": "code",
   "execution_count": null,
   "id": "7ffd3d6c",
   "metadata": {},
   "outputs": [],
   "source": [
    "10.After clicking continue the debugger starts and check line by line and find error ,as the error found ,the program stops."
   ]
  },
  {
   "cell_type": "code",
   "execution_count": null,
   "id": "6365a5c8",
   "metadata": {},
   "outputs": [],
   "source": [
    "11.breakpoint is a built in function in python which is same as debugger.In breakpoint if an error happened in code the program \n",
    "stops temporarily and as we remove the error the program will start executing."
   ]
  },
  {
   "cell_type": "code",
   "execution_count": null,
   "id": "dbbac16d",
   "metadata": {},
   "outputs": [],
   "source": []
  }
 ],
 "metadata": {
  "kernelspec": {
   "display_name": "Python 3 (ipykernel)",
   "language": "python",
   "name": "python3"
  },
  "language_info": {
   "codemirror_mode": {
    "name": "ipython",
    "version": 3
   },
   "file_extension": ".py",
   "mimetype": "text/x-python",
   "name": "python",
   "nbconvert_exporter": "python",
   "pygments_lexer": "ipython3",
   "version": "3.9.12"
  }
 },
 "nbformat": 4,
 "nbformat_minor": 5
}
